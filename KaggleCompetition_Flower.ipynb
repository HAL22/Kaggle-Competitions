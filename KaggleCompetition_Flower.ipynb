{
  "nbformat": 4,
  "nbformat_minor": 0,
  "metadata": {
    "colab": {
      "name": "KaggleCompetition-Flower.ipynb",
      "provenance": [],
      "authorship_tag": "ABX9TyNJ4+x3lpz3ly9zzPDF7ZeN",
      "include_colab_link": true
    },
    "kernelspec": {
      "name": "python3",
      "display_name": "Python 3"
    },
    "language_info": {
      "name": "python"
    }
  },
  "cells": [
    {
      "cell_type": "markdown",
      "metadata": {
        "id": "view-in-github",
        "colab_type": "text"
      },
      "source": [
        "<a href=\"https://colab.research.google.com/github/HAL22/Kaggle-Competitions/blob/flower-detection/KaggleCompetition_Flower.ipynb\" target=\"_parent\"><img src=\"https://colab.research.google.com/assets/colab-badge.svg\" alt=\"Open In Colab\"/></a>"
      ]
    },
    {
      "cell_type": "markdown",
      "source": [
        "**Saving kaggle json file**"
      ],
      "metadata": {
        "id": "9cDYWhffuewF"
      }
    },
    {
      "cell_type": "code",
      "execution_count": 5,
      "metadata": {
        "id": "xrMIJhV6rAm9"
      },
      "outputs": [],
      "source": [
        "!mkdir ~/.kaggle\n",
        "!cp kaggle.json ~/.kaggle"
      ]
    },
    {
      "cell_type": "markdown",
      "source": [
        "1. **Installing libraries**"
      ],
      "metadata": {
        "id": "hDcJj5-DraRp"
      }
    },
    {
      "cell_type": "code",
      "source": [
        "# Python cell magic which captures the stdout/stderr of a cell\n",
        "%%capture\n",
        "!pip install -Uqq fastcore --upgrade\n",
        "!pip install -Uqq fastai --upgrade\n",
        "!pip install kaggle"
      ],
      "metadata": {
        "id": "2XbErF5ArkwV"
      },
      "execution_count": 4,
      "outputs": []
    },
    {
      "cell_type": "markdown",
      "source": [
        "2. **Installing the TPU client**"
      ],
      "metadata": {
        "id": "13VIoZR6vK67"
      }
    },
    {
      "cell_type": "code",
      "source": [
        "!pip install -Uqq cloud-tpu-client==0.10 https://storage.googleapis.com/tpu-pytorch/wheels/torch_xla-1.7-cp37-cp37m-linux_x86_64.whl"
      ],
      "metadata": {
        "colab": {
          "base_uri": "https://localhost:8080/"
        },
        "id": "KAMpVY7Jsbir",
        "outputId": "87eb8599-b00b-47bd-d254-a1133b5d9f41"
      },
      "execution_count": 6,
      "outputs": [
        {
          "output_type": "stream",
          "name": "stdout",
          "text": [
            "\u001b[K     |████████████████████████████████| 133.6 MB 88 kB/s \n",
            "\u001b[K     |████████████████████████████████| 57 kB 3.2 MB/s \n",
            "\u001b[31mERROR: pip's dependency resolver does not currently take into account all the packages that are installed. This behaviour is the source of the following dependency conflicts.\n",
            "earthengine-api 0.1.320 requires google-api-python-client<2,>=1.12.1, but you have google-api-python-client 1.8.0 which is incompatible.\u001b[0m\n",
            "\u001b[?25h"
          ]
        }
      ]
    },
    {
      "cell_type": "code",
      "source": [
        "!pip install -Uqq git+https://github.com/butchland/fastai_xla_extensions.git"
      ],
      "metadata": {
        "colab": {
          "base_uri": "https://localhost:8080/"
        },
        "id": "VqRbKTlUvdp_",
        "outputId": "717a30c6-f9b7-4fc2-bb27-8ae770eff248"
      },
      "execution_count": 7,
      "outputs": [
        {
          "output_type": "stream",
          "name": "stdout",
          "text": [
            "\u001b[K     |████████████████████████████████| 193 kB 5.1 MB/s \n",
            "\u001b[K     |████████████████████████████████| 776.8 MB 16 kB/s \n",
            "\u001b[K     |████████████████████████████████| 12.8 MB 31.9 MB/s \n",
            "\u001b[K     |████████████████████████████████| 55 kB 4.5 MB/s \n",
            "\u001b[K     |████████████████████████████████| 10.4 MB 34.6 MB/s \n",
            "\u001b[K     |████████████████████████████████| 1.0 MB 48.5 MB/s \n",
            "\u001b[K     |████████████████████████████████| 184 kB 41.7 MB/s \n",
            "\u001b[?25h  Building wheel for fastai-xla-extensions (setup.py) ... \u001b[?25l\u001b[?25hdone\n",
            "\u001b[31mERROR: pip's dependency resolver does not currently take into account all the packages that are installed. This behaviour is the source of the following dependency conflicts.\n",
            "torchtext 0.13.1 requires torch==1.12.1, but you have torch 1.7.1 which is incompatible.\n",
            "torchaudio 0.12.1+cu113 requires torch==1.12.1, but you have torch 1.7.1 which is incompatible.\n",
            "en-core-web-sm 3.4.0 requires spacy<3.5.0,>=3.4.0, but you have spacy 2.3.7 which is incompatible.\u001b[0m\n"
          ]
        }
      ]
    },
    {
      "cell_type": "code",
      "source": [
        "%%capture\n",
        "import fastai_xla_extensions.core"
      ],
      "metadata": {
        "id": "tvIpPCUbvnk0"
      },
      "execution_count": 8,
      "outputs": []
    },
    {
      "cell_type": "code",
      "source": [
        "from fastai.vision.all import *"
      ],
      "metadata": {
        "id": "GlcvvtuMwP-A"
      },
      "execution_count": 9,
      "outputs": []
    },
    {
      "cell_type": "code",
      "source": [
        "!chmod 600 ~/.kaggle/kaggle.json"
      ],
      "metadata": {
        "id": "2La1xGSpw-U_"
      },
      "execution_count": 11,
      "outputs": []
    },
    {
      "cell_type": "code",
      "source": [
        "!kaggle datasets list"
      ],
      "metadata": {
        "colab": {
          "base_uri": "https://localhost:8080/"
        },
        "id": "ig14g4OoyBTu",
        "outputId": "4da1f968-74dc-4539-c55c-03f843104463"
      },
      "execution_count": 14,
      "outputs": [
        {
          "output_type": "stream",
          "name": "stdout",
          "text": [
            "ref                                                    title                                             size  lastUpdated          downloadCount  voteCount  usabilityRating  \n",
            "-----------------------------------------------------  -----------------------------------------------  -----  -------------------  -------------  ---------  ---------------  \n",
            "deepcontractor/mcdonalds-india-menu-nutrition-facts    McDonald's India : Menu Nutrition Dataset          5KB  2022-07-28 17:08:52           3593        147  0.9411765        \n",
            "iamsouravbanerjee/house-rent-prediction-dataset        House Rent Prediction Dataset                     82KB  2022-08-20 13:49:03           3688        132  1.0              \n",
            "arianazmoudeh/airbnbopendata                           Airbnb Open Data                                  10MB  2022-08-01 15:58:10           2290         81  0.9705882        \n",
            "ericsims/world-cheese-awards-worlds-cheesiest-dataset  World Cheese Awards (World's Cheesiest Dataset)   49KB  2022-08-17 03:11:43            383         29  1.0              \n",
            "adhithyasrinivasan/worldwide-monkeypox-daily-dataset   Worldwide Monkeypox Daily Dataset                 30KB  2022-08-14 12:11:01            547         27  0.9411765        \n",
            "debashis74017/stock-market-index-data-india-1990-2022  Stock Market Index Data India (1990 - 2022)        2MB  2022-08-21 19:53:27            647         28  1.0              \n",
            "infamouscoder/dataset-netflix-shows                    Dataset: NetFlix Shows                             1MB  2022-08-11 05:05:41           1073         49  1.0              \n",
            "himanshunakrani/student-study-hours                    Student Study Hours                               276B  2022-07-20 13:17:29           2991         87  1.0              \n",
            "tarundalal/100-richest-people-in-world                 100 Richest People In World                        3KB  2022-08-17 14:30:02            548         37  1.0              \n",
            "vanvalkenberg/historicalweatherdataforindiancities     Weather data Indian cities (1990 to 2022)        504KB  2022-07-29 11:13:42           1066         39  1.0              \n",
            "ruchi798/data-science-job-salaries                     Data Science Job Salaries                          7KB  2022-06-15 08:59:12          25313        771  1.0              \n",
            "ashvanths/toprated-tmdb-movies                         Top-Rated TMDB Movies                              1MB  2022-08-15 06:49:17            564         28  1.0              \n",
            "dansbecker/melbourne-housing-snapshot                  Melbourne Housing Snapshot                       451KB  2018-06-05 12:52:24          93883       1127  0.7058824        \n",
            "reihanenamdari/breast-cancer                           Breast Cancer                                     43KB  2022-08-08 19:25:55            909         42  1.0              \n",
            "zzettrkalpakbal/full-filled-brain-stroke-dataset       Brain stroke prediction dataset                   52KB  2022-07-16 09:57:08           3205         86  0.9705882        \n",
            "tigboatnc/amazon-all-categories-best-sellers-reviews   Amazon All Categories Best Sellers + Reviews       3MB  2022-08-10 00:26:09            815         27  1.0              \n",
            "nancyalaswad90/diamonds-prices                         Diamonds Prices                                  711KB  2022-07-09 14:59:21           3095        113  1.0              \n",
            "datasnaek/youtube-new                                  Trending YouTube Video Statistics                201MB  2019-06-03 00:56:47         184272       4642  0.7941176        \n",
            "surajjha101/countries-olympics-medals-since-1896       Countries Olympics Medals since 1896               4KB  2022-07-27 06:39:06           1476         60  1.0              \n",
            "zynicide/wine-reviews                                  Wine Reviews                                      51MB  2017-11-27 17:08:04         165028       3359  0.7941176        \n"
          ]
        }
      ]
    },
    {
      "cell_type": "code",
      "source": [
        "!kaggle competitions download -c tpu-getting-started"
      ],
      "metadata": {
        "colab": {
          "base_uri": "https://localhost:8080/"
        },
        "id": "EAxxwvmSwT38",
        "outputId": "055d4726-610d-48c8-8e60-d75513678a23"
      },
      "execution_count": 15,
      "outputs": [
        {
          "output_type": "stream",
          "name": "stdout",
          "text": [
            "Downloading tpu-getting-started.zip to /content\n",
            "100% 4.79G/4.79G [00:44<00:00, 76.3MB/s]\n",
            "100% 4.79G/4.79G [00:44<00:00, 115MB/s] \n"
          ]
        }
      ]
    },
    {
      "cell_type": "code",
      "source": [
        "!unzip tpu-getting-started.zip"
      ],
      "metadata": {
        "colab": {
          "base_uri": "https://localhost:8080/"
        },
        "id": "ejZbfmepzB9f",
        "outputId": "ffb65a78-50ab-43b5-f049-070726c9b1c6"
      },
      "execution_count": 16,
      "outputs": [
        {
          "output_type": "stream",
          "name": "stdout",
          "text": [
            "Archive:  tpu-getting-started.zip\n",
            "  inflating: sample_submission.csv   \n",
            "  inflating: tfrecords-jpeg-192x192/test/00-192x192-462.tfrec  \n",
            "  inflating: tfrecords-jpeg-192x192/test/01-192x192-462.tfrec  \n",
            "  inflating: tfrecords-jpeg-192x192/test/02-192x192-462.tfrec  \n",
            "  inflating: tfrecords-jpeg-192x192/test/03-192x192-462.tfrec  \n",
            "  inflating: tfrecords-jpeg-192x192/test/04-192x192-462.tfrec  \n",
            "  inflating: tfrecords-jpeg-192x192/test/05-192x192-462.tfrec  \n",
            "  inflating: tfrecords-jpeg-192x192/test/06-192x192-462.tfrec  \n",
            "  inflating: tfrecords-jpeg-192x192/test/07-192x192-462.tfrec  \n",
            "  inflating: tfrecords-jpeg-192x192/test/08-192x192-462.tfrec  \n",
            "  inflating: tfrecords-jpeg-192x192/test/09-192x192-462.tfrec  \n",
            "  inflating: tfrecords-jpeg-192x192/test/10-192x192-462.tfrec  \n",
            "  inflating: tfrecords-jpeg-192x192/test/11-192x192-462.tfrec  \n",
            "  inflating: tfrecords-jpeg-192x192/test/12-192x192-462.tfrec  \n",
            "  inflating: tfrecords-jpeg-192x192/test/13-192x192-462.tfrec  \n",
            "  inflating: tfrecords-jpeg-192x192/test/14-192x192-462.tfrec  \n",
            "  inflating: tfrecords-jpeg-192x192/test/15-192x192-452.tfrec  \n",
            "  inflating: tfrecords-jpeg-192x192/train/00-192x192-798.tfrec  \n",
            "  inflating: tfrecords-jpeg-192x192/train/01-192x192-798.tfrec  \n",
            "  inflating: tfrecords-jpeg-192x192/train/02-192x192-798.tfrec  \n",
            "  inflating: tfrecords-jpeg-192x192/train/03-192x192-798.tfrec  \n",
            "  inflating: tfrecords-jpeg-192x192/train/04-192x192-798.tfrec  \n",
            "  inflating: tfrecords-jpeg-192x192/train/05-192x192-798.tfrec  \n",
            "  inflating: tfrecords-jpeg-192x192/train/06-192x192-798.tfrec  \n",
            "  inflating: tfrecords-jpeg-192x192/train/07-192x192-798.tfrec  \n",
            "  inflating: tfrecords-jpeg-192x192/train/08-192x192-798.tfrec  \n",
            "  inflating: tfrecords-jpeg-192x192/train/09-192x192-798.tfrec  \n",
            "  inflating: tfrecords-jpeg-192x192/train/10-192x192-798.tfrec  \n",
            "  inflating: tfrecords-jpeg-192x192/train/11-192x192-798.tfrec  \n",
            "  inflating: tfrecords-jpeg-192x192/train/12-192x192-798.tfrec  \n",
            "  inflating: tfrecords-jpeg-192x192/train/13-192x192-798.tfrec  \n",
            "  inflating: tfrecords-jpeg-192x192/train/14-192x192-798.tfrec  \n",
            "  inflating: tfrecords-jpeg-192x192/train/15-192x192-783.tfrec  \n",
            "  inflating: tfrecords-jpeg-192x192/val/00-192x192-232.tfrec  \n",
            "  inflating: tfrecords-jpeg-192x192/val/01-192x192-232.tfrec  \n",
            "  inflating: tfrecords-jpeg-192x192/val/02-192x192-232.tfrec  \n",
            "  inflating: tfrecords-jpeg-192x192/val/03-192x192-232.tfrec  \n",
            "  inflating: tfrecords-jpeg-192x192/val/04-192x192-232.tfrec  \n",
            "  inflating: tfrecords-jpeg-192x192/val/05-192x192-232.tfrec  \n",
            "  inflating: tfrecords-jpeg-192x192/val/06-192x192-232.tfrec  \n",
            "  inflating: tfrecords-jpeg-192x192/val/07-192x192-232.tfrec  \n",
            "  inflating: tfrecords-jpeg-192x192/val/08-192x192-232.tfrec  \n",
            "  inflating: tfrecords-jpeg-192x192/val/09-192x192-232.tfrec  \n",
            "  inflating: tfrecords-jpeg-192x192/val/10-192x192-232.tfrec  \n",
            "  inflating: tfrecords-jpeg-192x192/val/11-192x192-232.tfrec  \n",
            "  inflating: tfrecords-jpeg-192x192/val/12-192x192-232.tfrec  \n",
            "  inflating: tfrecords-jpeg-192x192/val/13-192x192-232.tfrec  \n",
            "  inflating: tfrecords-jpeg-192x192/val/14-192x192-232.tfrec  \n",
            "  inflating: tfrecords-jpeg-192x192/val/15-192x192-232.tfrec  \n",
            "  inflating: tfrecords-jpeg-224x224/test/00-224x224-462.tfrec  \n",
            "  inflating: tfrecords-jpeg-224x224/test/01-224x224-462.tfrec  \n",
            "  inflating: tfrecords-jpeg-224x224/test/02-224x224-462.tfrec  \n",
            "  inflating: tfrecords-jpeg-224x224/test/03-224x224-462.tfrec  \n",
            "  inflating: tfrecords-jpeg-224x224/test/04-224x224-462.tfrec  \n",
            "  inflating: tfrecords-jpeg-224x224/test/05-224x224-462.tfrec  \n",
            "  inflating: tfrecords-jpeg-224x224/test/06-224x224-462.tfrec  \n",
            "  inflating: tfrecords-jpeg-224x224/test/07-224x224-462.tfrec  \n",
            "  inflating: tfrecords-jpeg-224x224/test/08-224x224-462.tfrec  \n",
            "  inflating: tfrecords-jpeg-224x224/test/09-224x224-462.tfrec  \n",
            "  inflating: tfrecords-jpeg-224x224/test/10-224x224-462.tfrec  \n",
            "  inflating: tfrecords-jpeg-224x224/test/11-224x224-462.tfrec  \n",
            "  inflating: tfrecords-jpeg-224x224/test/12-224x224-462.tfrec  \n",
            "  inflating: tfrecords-jpeg-224x224/test/13-224x224-462.tfrec  \n",
            "  inflating: tfrecords-jpeg-224x224/test/14-224x224-462.tfrec  \n",
            "  inflating: tfrecords-jpeg-224x224/test/15-224x224-452.tfrec  \n",
            "  inflating: tfrecords-jpeg-224x224/train/00-224x224-798.tfrec  \n",
            "  inflating: tfrecords-jpeg-224x224/train/01-224x224-798.tfrec  \n",
            "  inflating: tfrecords-jpeg-224x224/train/02-224x224-798.tfrec  \n",
            "  inflating: tfrecords-jpeg-224x224/train/03-224x224-798.tfrec  \n",
            "  inflating: tfrecords-jpeg-224x224/train/04-224x224-798.tfrec  \n",
            "  inflating: tfrecords-jpeg-224x224/train/05-224x224-798.tfrec  \n",
            "  inflating: tfrecords-jpeg-224x224/train/06-224x224-798.tfrec  \n",
            "  inflating: tfrecords-jpeg-224x224/train/07-224x224-798.tfrec  \n",
            "  inflating: tfrecords-jpeg-224x224/train/08-224x224-798.tfrec  \n",
            "  inflating: tfrecords-jpeg-224x224/train/09-224x224-798.tfrec  \n",
            "  inflating: tfrecords-jpeg-224x224/train/10-224x224-798.tfrec  \n",
            "  inflating: tfrecords-jpeg-224x224/train/11-224x224-798.tfrec  \n",
            "  inflating: tfrecords-jpeg-224x224/train/12-224x224-798.tfrec  \n",
            "  inflating: tfrecords-jpeg-224x224/train/13-224x224-798.tfrec  \n",
            "  inflating: tfrecords-jpeg-224x224/train/14-224x224-798.tfrec  \n",
            "  inflating: tfrecords-jpeg-224x224/train/15-224x224-783.tfrec  \n",
            "  inflating: tfrecords-jpeg-224x224/val/00-224x224-232.tfrec  \n",
            "  inflating: tfrecords-jpeg-224x224/val/01-224x224-232.tfrec  \n",
            "  inflating: tfrecords-jpeg-224x224/val/02-224x224-232.tfrec  \n",
            "  inflating: tfrecords-jpeg-224x224/val/03-224x224-232.tfrec  \n",
            "  inflating: tfrecords-jpeg-224x224/val/04-224x224-232.tfrec  \n",
            "  inflating: tfrecords-jpeg-224x224/val/05-224x224-232.tfrec  \n",
            "  inflating: tfrecords-jpeg-224x224/val/06-224x224-232.tfrec  \n",
            "  inflating: tfrecords-jpeg-224x224/val/07-224x224-232.tfrec  \n",
            "  inflating: tfrecords-jpeg-224x224/val/08-224x224-232.tfrec  \n",
            "  inflating: tfrecords-jpeg-224x224/val/09-224x224-232.tfrec  \n",
            "  inflating: tfrecords-jpeg-224x224/val/10-224x224-232.tfrec  \n",
            "  inflating: tfrecords-jpeg-224x224/val/11-224x224-232.tfrec  \n",
            "  inflating: tfrecords-jpeg-224x224/val/12-224x224-232.tfrec  \n",
            "  inflating: tfrecords-jpeg-224x224/val/13-224x224-232.tfrec  \n",
            "  inflating: tfrecords-jpeg-224x224/val/14-224x224-232.tfrec  \n",
            "  inflating: tfrecords-jpeg-224x224/val/15-224x224-232.tfrec  \n",
            "  inflating: tfrecords-jpeg-331x331/test/00-331x331-462.tfrec  \n",
            "  inflating: tfrecords-jpeg-331x331/test/01-331x331-462.tfrec  \n",
            "  inflating: tfrecords-jpeg-331x331/test/02-331x331-462.tfrec  \n",
            "  inflating: tfrecords-jpeg-331x331/test/03-331x331-462.tfrec  \n",
            "  inflating: tfrecords-jpeg-331x331/test/04-331x331-462.tfrec  \n",
            "  inflating: tfrecords-jpeg-331x331/test/05-331x331-462.tfrec  \n",
            "  inflating: tfrecords-jpeg-331x331/test/06-331x331-462.tfrec  \n",
            "  inflating: tfrecords-jpeg-331x331/test/07-331x331-462.tfrec  \n",
            "  inflating: tfrecords-jpeg-331x331/test/08-331x331-462.tfrec  \n",
            "  inflating: tfrecords-jpeg-331x331/test/09-331x331-462.tfrec  \n",
            "  inflating: tfrecords-jpeg-331x331/test/10-331x331-462.tfrec  \n",
            "  inflating: tfrecords-jpeg-331x331/test/11-331x331-462.tfrec  \n",
            "  inflating: tfrecords-jpeg-331x331/test/12-331x331-462.tfrec  \n",
            "  inflating: tfrecords-jpeg-331x331/test/13-331x331-462.tfrec  \n",
            "  inflating: tfrecords-jpeg-331x331/test/14-331x331-462.tfrec  \n",
            "  inflating: tfrecords-jpeg-331x331/test/15-331x331-452.tfrec  \n",
            "  inflating: tfrecords-jpeg-331x331/train/00-331x331-798.tfrec  \n",
            "  inflating: tfrecords-jpeg-331x331/train/01-331x331-798.tfrec  \n",
            "  inflating: tfrecords-jpeg-331x331/train/02-331x331-798.tfrec  \n",
            "  inflating: tfrecords-jpeg-331x331/train/03-331x331-798.tfrec  \n",
            "  inflating: tfrecords-jpeg-331x331/train/04-331x331-798.tfrec  \n",
            "  inflating: tfrecords-jpeg-331x331/train/05-331x331-798.tfrec  \n",
            "  inflating: tfrecords-jpeg-331x331/train/06-331x331-798.tfrec  \n",
            "  inflating: tfrecords-jpeg-331x331/train/07-331x331-798.tfrec  \n",
            "  inflating: tfrecords-jpeg-331x331/train/08-331x331-798.tfrec  \n",
            "  inflating: tfrecords-jpeg-331x331/train/09-331x331-798.tfrec  \n",
            "  inflating: tfrecords-jpeg-331x331/train/10-331x331-798.tfrec  \n",
            "  inflating: tfrecords-jpeg-331x331/train/11-331x331-798.tfrec  \n",
            "  inflating: tfrecords-jpeg-331x331/train/12-331x331-798.tfrec  \n",
            "  inflating: tfrecords-jpeg-331x331/train/13-331x331-798.tfrec  \n",
            "  inflating: tfrecords-jpeg-331x331/train/14-331x331-798.tfrec  \n",
            "  inflating: tfrecords-jpeg-331x331/train/15-331x331-783.tfrec  \n",
            "  inflating: tfrecords-jpeg-331x331/val/00-331x331-232.tfrec  \n",
            "  inflating: tfrecords-jpeg-331x331/val/01-331x331-232.tfrec  \n",
            "  inflating: tfrecords-jpeg-331x331/val/02-331x331-232.tfrec  \n",
            "  inflating: tfrecords-jpeg-331x331/val/03-331x331-232.tfrec  \n",
            "  inflating: tfrecords-jpeg-331x331/val/04-331x331-232.tfrec  \n",
            "  inflating: tfrecords-jpeg-331x331/val/05-331x331-232.tfrec  \n",
            "  inflating: tfrecords-jpeg-331x331/val/06-331x331-232.tfrec  \n",
            "  inflating: tfrecords-jpeg-331x331/val/07-331x331-232.tfrec  \n",
            "  inflating: tfrecords-jpeg-331x331/val/08-331x331-232.tfrec  \n",
            "  inflating: tfrecords-jpeg-331x331/val/09-331x331-232.tfrec  \n",
            "  inflating: tfrecords-jpeg-331x331/val/10-331x331-232.tfrec  \n",
            "  inflating: tfrecords-jpeg-331x331/val/11-331x331-232.tfrec  \n",
            "  inflating: tfrecords-jpeg-331x331/val/12-331x331-232.tfrec  \n",
            "  inflating: tfrecords-jpeg-331x331/val/13-331x331-232.tfrec  \n",
            "  inflating: tfrecords-jpeg-331x331/val/14-331x331-232.tfrec  \n",
            "  inflating: tfrecords-jpeg-331x331/val/15-331x331-232.tfrec  \n",
            "  inflating: tfrecords-jpeg-512x512/test/00-512x512-462.tfrec  \n",
            "  inflating: tfrecords-jpeg-512x512/test/01-512x512-462.tfrec  \n",
            "  inflating: tfrecords-jpeg-512x512/test/02-512x512-462.tfrec  \n",
            "  inflating: tfrecords-jpeg-512x512/test/03-512x512-462.tfrec  \n",
            "  inflating: tfrecords-jpeg-512x512/test/04-512x512-462.tfrec  \n",
            "  inflating: tfrecords-jpeg-512x512/test/05-512x512-462.tfrec  \n",
            "  inflating: tfrecords-jpeg-512x512/test/06-512x512-462.tfrec  \n",
            "  inflating: tfrecords-jpeg-512x512/test/07-512x512-462.tfrec  \n",
            "  inflating: tfrecords-jpeg-512x512/test/08-512x512-462.tfrec  \n",
            "  inflating: tfrecords-jpeg-512x512/test/09-512x512-462.tfrec  \n",
            "  inflating: tfrecords-jpeg-512x512/test/10-512x512-462.tfrec  \n",
            "  inflating: tfrecords-jpeg-512x512/test/11-512x512-462.tfrec  \n",
            "  inflating: tfrecords-jpeg-512x512/test/12-512x512-462.tfrec  \n",
            "  inflating: tfrecords-jpeg-512x512/test/13-512x512-462.tfrec  \n",
            "  inflating: tfrecords-jpeg-512x512/test/14-512x512-462.tfrec  \n",
            "  inflating: tfrecords-jpeg-512x512/test/15-512x512-452.tfrec  \n",
            "  inflating: tfrecords-jpeg-512x512/train/00-512x512-798.tfrec  \n",
            "  inflating: tfrecords-jpeg-512x512/train/01-512x512-798.tfrec  \n",
            "  inflating: tfrecords-jpeg-512x512/train/02-512x512-798.tfrec  \n",
            "  inflating: tfrecords-jpeg-512x512/train/03-512x512-798.tfrec  \n",
            "  inflating: tfrecords-jpeg-512x512/train/04-512x512-798.tfrec  \n",
            "  inflating: tfrecords-jpeg-512x512/train/05-512x512-798.tfrec  \n",
            "  inflating: tfrecords-jpeg-512x512/train/06-512x512-798.tfrec  \n",
            "  inflating: tfrecords-jpeg-512x512/train/07-512x512-798.tfrec  \n",
            "  inflating: tfrecords-jpeg-512x512/train/08-512x512-798.tfrec  \n",
            "  inflating: tfrecords-jpeg-512x512/train/09-512x512-798.tfrec  \n",
            "  inflating: tfrecords-jpeg-512x512/train/10-512x512-798.tfrec  \n",
            "  inflating: tfrecords-jpeg-512x512/train/11-512x512-798.tfrec  \n",
            "  inflating: tfrecords-jpeg-512x512/train/12-512x512-798.tfrec  \n",
            "  inflating: tfrecords-jpeg-512x512/train/13-512x512-798.tfrec  \n",
            "  inflating: tfrecords-jpeg-512x512/train/14-512x512-798.tfrec  \n",
            "  inflating: tfrecords-jpeg-512x512/train/15-512x512-783.tfrec  \n",
            "  inflating: tfrecords-jpeg-512x512/val/00-512x512-232.tfrec  \n",
            "  inflating: tfrecords-jpeg-512x512/val/01-512x512-232.tfrec  \n",
            "  inflating: tfrecords-jpeg-512x512/val/02-512x512-232.tfrec  \n",
            "  inflating: tfrecords-jpeg-512x512/val/03-512x512-232.tfrec  \n",
            "  inflating: tfrecords-jpeg-512x512/val/04-512x512-232.tfrec  \n",
            "  inflating: tfrecords-jpeg-512x512/val/05-512x512-232.tfrec  \n",
            "  inflating: tfrecords-jpeg-512x512/val/06-512x512-232.tfrec  \n",
            "  inflating: tfrecords-jpeg-512x512/val/07-512x512-232.tfrec  \n",
            "  inflating: tfrecords-jpeg-512x512/val/08-512x512-232.tfrec  \n",
            "  inflating: tfrecords-jpeg-512x512/val/09-512x512-232.tfrec  \n",
            "  inflating: tfrecords-jpeg-512x512/val/10-512x512-232.tfrec  \n",
            "  inflating: tfrecords-jpeg-512x512/val/11-512x512-232.tfrec  \n",
            "  inflating: tfrecords-jpeg-512x512/val/12-512x512-232.tfrec  \n",
            "  inflating: tfrecords-jpeg-512x512/val/13-512x512-232.tfrec  \n",
            "  inflating: tfrecords-jpeg-512x512/val/14-512x512-232.tfrec  \n",
            "  inflating: tfrecords-jpeg-512x512/val/15-512x512-232.tfrec  \n"
          ]
        }
      ]
    },
    {
      "cell_type": "code",
      "source": [
        "path = Path('/content/tfrecords-jpeg-331x331/test')"
      ],
      "metadata": {
        "id": "VGEbHE690FzU"
      },
      "execution_count": 21,
      "outputs": []
    },
    {
      "cell_type": "code",
      "source": [
        "fns = get_image_files(path)\n",
        "fns"
      ],
      "metadata": {
        "colab": {
          "base_uri": "https://localhost:8080/"
        },
        "id": "YwD2FT_N0Ywi",
        "outputId": "0c151edb-0351-4ebe-a38f-bec185f18727"
      },
      "execution_count": 22,
      "outputs": [
        {
          "output_type": "execute_result",
          "data": {
            "text/plain": [
              "(#0) []"
            ]
          },
          "metadata": {},
          "execution_count": 22
        }
      ]
    },
    {
      "cell_type": "code",
      "source": [
        "flowers = DataBlock(\n",
        "    blocks=(ImageBlock, CategoryBlock), \n",
        "    get_items=get_image_files, \n",
        "    splitter=RandomSplitter(valid_pct=0.2, seed=42),\n",
        "    get_y=parent_label,\n",
        "    item_tfms=Resize(460),\n",
        "    batch_tfms=aug_transforms(size=224, min_scale=0.75)\n",
        "    )"
      ],
      "metadata": {
        "id": "rLxYWOtC0M0A"
      },
      "execution_count": 18,
      "outputs": []
    },
    {
      "cell_type": "code",
      "source": [
        "flowers.dataloaders()"
      ],
      "metadata": {
        "colab": {
          "base_uri": "https://localhost:8080/",
          "height": 318
        },
        "id": "cGX-9v780x79",
        "outputId": "f67b371c-a202-48c1-cdaf-2c94ac2c06f7"
      },
      "execution_count": 19,
      "outputs": [
        {
          "output_type": "error",
          "ename": "TypeError",
          "evalue": "ignored",
          "traceback": [
            "\u001b[0;31m---------------------------------------------------------------------------\u001b[0m",
            "\u001b[0;31mTypeError\u001b[0m                                 Traceback (most recent call last)",
            "\u001b[0;32m<ipython-input-19-929b55633b69>\u001b[0m in \u001b[0;36m<module>\u001b[0;34m\u001b[0m\n\u001b[0;32m----> 1\u001b[0;31m \u001b[0mdls\u001b[0m \u001b[0;34m=\u001b[0m \u001b[0mflowers\u001b[0m\u001b[0;34m.\u001b[0m\u001b[0mdataloaders\u001b[0m\u001b[0;34m(\u001b[0m\u001b[0mpath\u001b[0m\u001b[0;34m)\u001b[0m\u001b[0;34m\u001b[0m\u001b[0;34m\u001b[0m\u001b[0m\n\u001b[0m",
            "\u001b[0;32m/usr/local/lib/python3.7/dist-packages/fastai/data/block.py\u001b[0m in \u001b[0;36mdataloaders\u001b[0;34m(self, source, path, verbose, **kwargs)\u001b[0m\n\u001b[1;32m    111\u001b[0m \u001b[0;34m\u001b[0m\u001b[0m\n\u001b[1;32m    112\u001b[0m     \u001b[0;32mdef\u001b[0m \u001b[0mdataloaders\u001b[0m\u001b[0;34m(\u001b[0m\u001b[0mself\u001b[0m\u001b[0;34m,\u001b[0m \u001b[0msource\u001b[0m\u001b[0;34m,\u001b[0m \u001b[0mpath\u001b[0m\u001b[0;34m=\u001b[0m\u001b[0;34m'.'\u001b[0m\u001b[0;34m,\u001b[0m \u001b[0mverbose\u001b[0m\u001b[0;34m=\u001b[0m\u001b[0;32mFalse\u001b[0m\u001b[0;34m,\u001b[0m \u001b[0;34m**\u001b[0m\u001b[0mkwargs\u001b[0m\u001b[0;34m)\u001b[0m\u001b[0;34m:\u001b[0m\u001b[0;34m\u001b[0m\u001b[0;34m\u001b[0m\u001b[0m\n\u001b[0;32m--> 113\u001b[0;31m         \u001b[0mdsets\u001b[0m \u001b[0;34m=\u001b[0m \u001b[0mself\u001b[0m\u001b[0;34m.\u001b[0m\u001b[0mdatasets\u001b[0m\u001b[0;34m(\u001b[0m\u001b[0msource\u001b[0m\u001b[0;34m,\u001b[0m \u001b[0mverbose\u001b[0m\u001b[0;34m=\u001b[0m\u001b[0mverbose\u001b[0m\u001b[0;34m)\u001b[0m\u001b[0;34m\u001b[0m\u001b[0;34m\u001b[0m\u001b[0m\n\u001b[0m\u001b[1;32m    114\u001b[0m         \u001b[0mkwargs\u001b[0m \u001b[0;34m=\u001b[0m \u001b[0;34m{\u001b[0m\u001b[0;34m**\u001b[0m\u001b[0mself\u001b[0m\u001b[0;34m.\u001b[0m\u001b[0mdls_kwargs\u001b[0m\u001b[0;34m,\u001b[0m \u001b[0;34m**\u001b[0m\u001b[0mkwargs\u001b[0m\u001b[0;34m,\u001b[0m \u001b[0;34m'verbose'\u001b[0m\u001b[0;34m:\u001b[0m \u001b[0mverbose\u001b[0m\u001b[0;34m}\u001b[0m\u001b[0;34m\u001b[0m\u001b[0;34m\u001b[0m\u001b[0m\n\u001b[1;32m    115\u001b[0m         \u001b[0;32mreturn\u001b[0m \u001b[0mdsets\u001b[0m\u001b[0;34m.\u001b[0m\u001b[0mdataloaders\u001b[0m\u001b[0;34m(\u001b[0m\u001b[0mpath\u001b[0m\u001b[0;34m=\u001b[0m\u001b[0mpath\u001b[0m\u001b[0;34m,\u001b[0m \u001b[0mafter_item\u001b[0m\u001b[0;34m=\u001b[0m\u001b[0mself\u001b[0m\u001b[0;34m.\u001b[0m\u001b[0mitem_tfms\u001b[0m\u001b[0;34m,\u001b[0m \u001b[0mafter_batch\u001b[0m\u001b[0;34m=\u001b[0m\u001b[0mself\u001b[0m\u001b[0;34m.\u001b[0m\u001b[0mbatch_tfms\u001b[0m\u001b[0;34m,\u001b[0m \u001b[0;34m**\u001b[0m\u001b[0mkwargs\u001b[0m\u001b[0;34m)\u001b[0m\u001b[0;34m\u001b[0m\u001b[0;34m\u001b[0m\u001b[0m\n",
            "\u001b[0;32m/usr/local/lib/python3.7/dist-packages/fastai/data/block.py\u001b[0m in \u001b[0;36mdatasets\u001b[0;34m(self, source, verbose)\u001b[0m\n\u001b[1;32m    108\u001b[0m         \u001b[0msplits\u001b[0m \u001b[0;34m=\u001b[0m \u001b[0;34m(\u001b[0m\u001b[0mself\u001b[0m\u001b[0;34m.\u001b[0m\u001b[0msplitter\u001b[0m \u001b[0;32mor\u001b[0m \u001b[0mRandomSplitter\u001b[0m\u001b[0;34m(\u001b[0m\u001b[0;34m)\u001b[0m\u001b[0;34m)\u001b[0m\u001b[0;34m(\u001b[0m\u001b[0mitems\u001b[0m\u001b[0;34m)\u001b[0m\u001b[0;34m\u001b[0m\u001b[0;34m\u001b[0m\u001b[0m\n\u001b[1;32m    109\u001b[0m         \u001b[0mpv\u001b[0m\u001b[0;34m(\u001b[0m\u001b[0;34mf\"{len(splits)} datasets of sizes {','.join([str(len(s)) for s in splits])}\"\u001b[0m\u001b[0;34m,\u001b[0m \u001b[0mverbose\u001b[0m\u001b[0;34m)\u001b[0m\u001b[0;34m\u001b[0m\u001b[0;34m\u001b[0m\u001b[0m\n\u001b[0;32m--> 110\u001b[0;31m         \u001b[0;32mreturn\u001b[0m \u001b[0mDatasets\u001b[0m\u001b[0;34m(\u001b[0m\u001b[0mitems\u001b[0m\u001b[0;34m,\u001b[0m \u001b[0mtfms\u001b[0m\u001b[0;34m=\u001b[0m\u001b[0mself\u001b[0m\u001b[0;34m.\u001b[0m\u001b[0m_combine_type_tfms\u001b[0m\u001b[0;34m(\u001b[0m\u001b[0;34m)\u001b[0m\u001b[0;34m,\u001b[0m \u001b[0msplits\u001b[0m\u001b[0;34m=\u001b[0m\u001b[0msplits\u001b[0m\u001b[0;34m,\u001b[0m \u001b[0mdl_type\u001b[0m\u001b[0;34m=\u001b[0m\u001b[0mself\u001b[0m\u001b[0;34m.\u001b[0m\u001b[0mdl_type\u001b[0m\u001b[0;34m,\u001b[0m \u001b[0mn_inp\u001b[0m\u001b[0;34m=\u001b[0m\u001b[0mself\u001b[0m\u001b[0;34m.\u001b[0m\u001b[0mn_inp\u001b[0m\u001b[0;34m,\u001b[0m \u001b[0mverbose\u001b[0m\u001b[0;34m=\u001b[0m\u001b[0mverbose\u001b[0m\u001b[0;34m)\u001b[0m\u001b[0;34m\u001b[0m\u001b[0;34m\u001b[0m\u001b[0m\n\u001b[0m\u001b[1;32m    111\u001b[0m \u001b[0;34m\u001b[0m\u001b[0m\n\u001b[1;32m    112\u001b[0m     \u001b[0;32mdef\u001b[0m \u001b[0mdataloaders\u001b[0m\u001b[0;34m(\u001b[0m\u001b[0mself\u001b[0m\u001b[0;34m,\u001b[0m \u001b[0msource\u001b[0m\u001b[0;34m,\u001b[0m \u001b[0mpath\u001b[0m\u001b[0;34m=\u001b[0m\u001b[0;34m'.'\u001b[0m\u001b[0;34m,\u001b[0m \u001b[0mverbose\u001b[0m\u001b[0;34m=\u001b[0m\u001b[0;32mFalse\u001b[0m\u001b[0;34m,\u001b[0m \u001b[0;34m**\u001b[0m\u001b[0mkwargs\u001b[0m\u001b[0;34m)\u001b[0m\u001b[0;34m:\u001b[0m\u001b[0;34m\u001b[0m\u001b[0;34m\u001b[0m\u001b[0m\n",
            "\u001b[0;32m/usr/local/lib/python3.7/dist-packages/fastai/data/core.py\u001b[0m in \u001b[0;36m__init__\u001b[0;34m(self, items, tfms, tls, n_inp, dl_type, **kwargs)\u001b[0m\n\u001b[1;32m    329\u001b[0m     \u001b[0;32mdef\u001b[0m \u001b[0m__init__\u001b[0m\u001b[0;34m(\u001b[0m\u001b[0mself\u001b[0m\u001b[0;34m,\u001b[0m \u001b[0mitems\u001b[0m\u001b[0;34m=\u001b[0m\u001b[0;32mNone\u001b[0m\u001b[0;34m,\u001b[0m \u001b[0mtfms\u001b[0m\u001b[0;34m=\u001b[0m\u001b[0;32mNone\u001b[0m\u001b[0;34m,\u001b[0m \u001b[0mtls\u001b[0m\u001b[0;34m=\u001b[0m\u001b[0;32mNone\u001b[0m\u001b[0;34m,\u001b[0m \u001b[0mn_inp\u001b[0m\u001b[0;34m=\u001b[0m\u001b[0;32mNone\u001b[0m\u001b[0;34m,\u001b[0m \u001b[0mdl_type\u001b[0m\u001b[0;34m=\u001b[0m\u001b[0;32mNone\u001b[0m\u001b[0;34m,\u001b[0m \u001b[0;34m**\u001b[0m\u001b[0mkwargs\u001b[0m\u001b[0;34m)\u001b[0m\u001b[0;34m:\u001b[0m\u001b[0;34m\u001b[0m\u001b[0;34m\u001b[0m\u001b[0m\n\u001b[1;32m    330\u001b[0m         \u001b[0msuper\u001b[0m\u001b[0;34m(\u001b[0m\u001b[0;34m)\u001b[0m\u001b[0;34m.\u001b[0m\u001b[0m__init__\u001b[0m\u001b[0;34m(\u001b[0m\u001b[0mdl_type\u001b[0m\u001b[0;34m=\u001b[0m\u001b[0mdl_type\u001b[0m\u001b[0;34m)\u001b[0m\u001b[0;34m\u001b[0m\u001b[0;34m\u001b[0m\u001b[0m\n\u001b[0;32m--> 331\u001b[0;31m         \u001b[0mself\u001b[0m\u001b[0;34m.\u001b[0m\u001b[0mtls\u001b[0m \u001b[0;34m=\u001b[0m \u001b[0mL\u001b[0m\u001b[0;34m(\u001b[0m\u001b[0mtls\u001b[0m \u001b[0;32mif\u001b[0m \u001b[0mtls\u001b[0m \u001b[0;32melse\u001b[0m \u001b[0;34m[\u001b[0m\u001b[0mTfmdLists\u001b[0m\u001b[0;34m(\u001b[0m\u001b[0mitems\u001b[0m\u001b[0;34m,\u001b[0m \u001b[0mt\u001b[0m\u001b[0;34m,\u001b[0m \u001b[0;34m**\u001b[0m\u001b[0mkwargs\u001b[0m\u001b[0;34m)\u001b[0m \u001b[0;32mfor\u001b[0m \u001b[0mt\u001b[0m \u001b[0;32min\u001b[0m \u001b[0mL\u001b[0m\u001b[0;34m(\u001b[0m\u001b[0mifnone\u001b[0m\u001b[0;34m(\u001b[0m\u001b[0mtfms\u001b[0m\u001b[0;34m,\u001b[0m\u001b[0;34m[\u001b[0m\u001b[0;32mNone\u001b[0m\u001b[0;34m]\u001b[0m\u001b[0;34m)\u001b[0m\u001b[0;34m)\u001b[0m\u001b[0;34m]\u001b[0m\u001b[0;34m)\u001b[0m\u001b[0;34m\u001b[0m\u001b[0;34m\u001b[0m\u001b[0m\n\u001b[0m\u001b[1;32m    332\u001b[0m         \u001b[0mself\u001b[0m\u001b[0;34m.\u001b[0m\u001b[0mn_inp\u001b[0m \u001b[0;34m=\u001b[0m \u001b[0mifnone\u001b[0m\u001b[0;34m(\u001b[0m\u001b[0mn_inp\u001b[0m\u001b[0;34m,\u001b[0m \u001b[0mmax\u001b[0m\u001b[0;34m(\u001b[0m\u001b[0;36m1\u001b[0m\u001b[0;34m,\u001b[0m \u001b[0mlen\u001b[0m\u001b[0;34m(\u001b[0m\u001b[0mself\u001b[0m\u001b[0;34m.\u001b[0m\u001b[0mtls\u001b[0m\u001b[0;34m)\u001b[0m\u001b[0;34m-\u001b[0m\u001b[0;36m1\u001b[0m\u001b[0;34m)\u001b[0m\u001b[0;34m)\u001b[0m\u001b[0;34m\u001b[0m\u001b[0;34m\u001b[0m\u001b[0m\n\u001b[1;32m    333\u001b[0m \u001b[0;34m\u001b[0m\u001b[0m\n",
            "\u001b[0;32m/usr/local/lib/python3.7/dist-packages/fastai/data/core.py\u001b[0m in \u001b[0;36m<listcomp>\u001b[0;34m(.0)\u001b[0m\n\u001b[1;32m    329\u001b[0m     \u001b[0;32mdef\u001b[0m \u001b[0m__init__\u001b[0m\u001b[0;34m(\u001b[0m\u001b[0mself\u001b[0m\u001b[0;34m,\u001b[0m \u001b[0mitems\u001b[0m\u001b[0;34m=\u001b[0m\u001b[0;32mNone\u001b[0m\u001b[0;34m,\u001b[0m \u001b[0mtfms\u001b[0m\u001b[0;34m=\u001b[0m\u001b[0;32mNone\u001b[0m\u001b[0;34m,\u001b[0m \u001b[0mtls\u001b[0m\u001b[0;34m=\u001b[0m\u001b[0;32mNone\u001b[0m\u001b[0;34m,\u001b[0m \u001b[0mn_inp\u001b[0m\u001b[0;34m=\u001b[0m\u001b[0;32mNone\u001b[0m\u001b[0;34m,\u001b[0m \u001b[0mdl_type\u001b[0m\u001b[0;34m=\u001b[0m\u001b[0;32mNone\u001b[0m\u001b[0;34m,\u001b[0m \u001b[0;34m**\u001b[0m\u001b[0mkwargs\u001b[0m\u001b[0;34m)\u001b[0m\u001b[0;34m:\u001b[0m\u001b[0;34m\u001b[0m\u001b[0;34m\u001b[0m\u001b[0m\n\u001b[1;32m    330\u001b[0m         \u001b[0msuper\u001b[0m\u001b[0;34m(\u001b[0m\u001b[0;34m)\u001b[0m\u001b[0;34m.\u001b[0m\u001b[0m__init__\u001b[0m\u001b[0;34m(\u001b[0m\u001b[0mdl_type\u001b[0m\u001b[0;34m=\u001b[0m\u001b[0mdl_type\u001b[0m\u001b[0;34m)\u001b[0m\u001b[0;34m\u001b[0m\u001b[0;34m\u001b[0m\u001b[0m\n\u001b[0;32m--> 331\u001b[0;31m         \u001b[0mself\u001b[0m\u001b[0;34m.\u001b[0m\u001b[0mtls\u001b[0m \u001b[0;34m=\u001b[0m \u001b[0mL\u001b[0m\u001b[0;34m(\u001b[0m\u001b[0mtls\u001b[0m \u001b[0;32mif\u001b[0m \u001b[0mtls\u001b[0m \u001b[0;32melse\u001b[0m \u001b[0;34m[\u001b[0m\u001b[0mTfmdLists\u001b[0m\u001b[0;34m(\u001b[0m\u001b[0mitems\u001b[0m\u001b[0;34m,\u001b[0m \u001b[0mt\u001b[0m\u001b[0;34m,\u001b[0m \u001b[0;34m**\u001b[0m\u001b[0mkwargs\u001b[0m\u001b[0;34m)\u001b[0m \u001b[0;32mfor\u001b[0m \u001b[0mt\u001b[0m \u001b[0;32min\u001b[0m \u001b[0mL\u001b[0m\u001b[0;34m(\u001b[0m\u001b[0mifnone\u001b[0m\u001b[0;34m(\u001b[0m\u001b[0mtfms\u001b[0m\u001b[0;34m,\u001b[0m\u001b[0;34m[\u001b[0m\u001b[0;32mNone\u001b[0m\u001b[0;34m]\u001b[0m\u001b[0;34m)\u001b[0m\u001b[0;34m)\u001b[0m\u001b[0;34m]\u001b[0m\u001b[0;34m)\u001b[0m\u001b[0;34m\u001b[0m\u001b[0;34m\u001b[0m\u001b[0m\n\u001b[0m\u001b[1;32m    332\u001b[0m         \u001b[0mself\u001b[0m\u001b[0;34m.\u001b[0m\u001b[0mn_inp\u001b[0m \u001b[0;34m=\u001b[0m \u001b[0mifnone\u001b[0m\u001b[0;34m(\u001b[0m\u001b[0mn_inp\u001b[0m\u001b[0;34m,\u001b[0m \u001b[0mmax\u001b[0m\u001b[0;34m(\u001b[0m\u001b[0;36m1\u001b[0m\u001b[0;34m,\u001b[0m \u001b[0mlen\u001b[0m\u001b[0;34m(\u001b[0m\u001b[0mself\u001b[0m\u001b[0;34m.\u001b[0m\u001b[0mtls\u001b[0m\u001b[0;34m)\u001b[0m\u001b[0;34m-\u001b[0m\u001b[0;36m1\u001b[0m\u001b[0;34m)\u001b[0m\u001b[0;34m)\u001b[0m\u001b[0;34m\u001b[0m\u001b[0;34m\u001b[0m\u001b[0m\n\u001b[1;32m    333\u001b[0m \u001b[0;34m\u001b[0m\u001b[0m\n",
            "\u001b[0;32m/usr/local/lib/python3.7/dist-packages/fastcore/foundation.py\u001b[0m in \u001b[0;36m__call__\u001b[0;34m(cls, x, *args, **kwargs)\u001b[0m\n\u001b[1;32m     95\u001b[0m     \u001b[0;32mdef\u001b[0m \u001b[0m__call__\u001b[0m\u001b[0;34m(\u001b[0m\u001b[0mcls\u001b[0m\u001b[0;34m,\u001b[0m \u001b[0mx\u001b[0m\u001b[0;34m=\u001b[0m\u001b[0;32mNone\u001b[0m\u001b[0;34m,\u001b[0m \u001b[0;34m*\u001b[0m\u001b[0margs\u001b[0m\u001b[0;34m,\u001b[0m \u001b[0;34m**\u001b[0m\u001b[0mkwargs\u001b[0m\u001b[0;34m)\u001b[0m\u001b[0;34m:\u001b[0m\u001b[0;34m\u001b[0m\u001b[0;34m\u001b[0m\u001b[0m\n\u001b[1;32m     96\u001b[0m         \u001b[0;32mif\u001b[0m \u001b[0;32mnot\u001b[0m \u001b[0margs\u001b[0m \u001b[0;32mand\u001b[0m \u001b[0;32mnot\u001b[0m \u001b[0mkwargs\u001b[0m \u001b[0;32mand\u001b[0m \u001b[0mx\u001b[0m \u001b[0;32mis\u001b[0m \u001b[0;32mnot\u001b[0m \u001b[0;32mNone\u001b[0m \u001b[0;32mand\u001b[0m \u001b[0misinstance\u001b[0m\u001b[0;34m(\u001b[0m\u001b[0mx\u001b[0m\u001b[0;34m,\u001b[0m\u001b[0mcls\u001b[0m\u001b[0;34m)\u001b[0m\u001b[0;34m:\u001b[0m \u001b[0;32mreturn\u001b[0m \u001b[0mx\u001b[0m\u001b[0;34m\u001b[0m\u001b[0;34m\u001b[0m\u001b[0m\n\u001b[0;32m---> 97\u001b[0;31m         \u001b[0;32mreturn\u001b[0m \u001b[0msuper\u001b[0m\u001b[0;34m(\u001b[0m\u001b[0;34m)\u001b[0m\u001b[0;34m.\u001b[0m\u001b[0m__call__\u001b[0m\u001b[0;34m(\u001b[0m\u001b[0mx\u001b[0m\u001b[0;34m,\u001b[0m \u001b[0;34m*\u001b[0m\u001b[0margs\u001b[0m\u001b[0;34m,\u001b[0m \u001b[0;34m**\u001b[0m\u001b[0mkwargs\u001b[0m\u001b[0;34m)\u001b[0m\u001b[0;34m\u001b[0m\u001b[0;34m\u001b[0m\u001b[0m\n\u001b[0m\u001b[1;32m     98\u001b[0m \u001b[0;34m\u001b[0m\u001b[0m\n\u001b[1;32m     99\u001b[0m \u001b[0;31m# Cell\u001b[0m\u001b[0;34m\u001b[0m\u001b[0;34m\u001b[0m\u001b[0;34m\u001b[0m\u001b[0m\n",
            "\u001b[0;32m/usr/local/lib/python3.7/dist-packages/fastai/data/core.py\u001b[0m in \u001b[0;36m__init__\u001b[0;34m(self, items, tfms, use_list, do_setup, split_idx, train_setup, splits, types, verbose, dl_type)\u001b[0m\n\u001b[1;32m    255\u001b[0m         \u001b[0;32mif\u001b[0m \u001b[0mdo_setup\u001b[0m\u001b[0;34m:\u001b[0m\u001b[0;34m\u001b[0m\u001b[0;34m\u001b[0m\u001b[0m\n\u001b[1;32m    256\u001b[0m             \u001b[0mpv\u001b[0m\u001b[0;34m(\u001b[0m\u001b[0;34mf\"Setting up {self.tfms}\"\u001b[0m\u001b[0;34m,\u001b[0m \u001b[0mverbose\u001b[0m\u001b[0;34m)\u001b[0m\u001b[0;34m\u001b[0m\u001b[0;34m\u001b[0m\u001b[0m\n\u001b[0;32m--> 257\u001b[0;31m             \u001b[0mself\u001b[0m\u001b[0;34m.\u001b[0m\u001b[0msetup\u001b[0m\u001b[0;34m(\u001b[0m\u001b[0mtrain_setup\u001b[0m\u001b[0;34m=\u001b[0m\u001b[0mtrain_setup\u001b[0m\u001b[0;34m)\u001b[0m\u001b[0;34m\u001b[0m\u001b[0;34m\u001b[0m\u001b[0m\n\u001b[0m\u001b[1;32m    258\u001b[0m \u001b[0;34m\u001b[0m\u001b[0m\n\u001b[1;32m    259\u001b[0m     \u001b[0;32mdef\u001b[0m \u001b[0m_new\u001b[0m\u001b[0;34m(\u001b[0m\u001b[0mself\u001b[0m\u001b[0;34m,\u001b[0m \u001b[0mitems\u001b[0m\u001b[0;34m,\u001b[0m \u001b[0msplit_idx\u001b[0m\u001b[0;34m=\u001b[0m\u001b[0;32mNone\u001b[0m\u001b[0;34m,\u001b[0m \u001b[0;34m**\u001b[0m\u001b[0mkwargs\u001b[0m\u001b[0;34m)\u001b[0m\u001b[0;34m:\u001b[0m\u001b[0;34m\u001b[0m\u001b[0;34m\u001b[0m\u001b[0m\n",
            "\u001b[0;32m/usr/local/lib/python3.7/dist-packages/fastai/data/core.py\u001b[0m in \u001b[0;36msetup\u001b[0;34m(self, train_setup)\u001b[0m\n\u001b[1;32m    279\u001b[0m                 \u001b[0mx\u001b[0m \u001b[0;34m=\u001b[0m \u001b[0mf\u001b[0m\u001b[0;34m(\u001b[0m\u001b[0mx\u001b[0m\u001b[0;34m)\u001b[0m\u001b[0;34m\u001b[0m\u001b[0;34m\u001b[0m\u001b[0m\n\u001b[1;32m    280\u001b[0m             \u001b[0mself\u001b[0m\u001b[0;34m.\u001b[0m\u001b[0mtypes\u001b[0m\u001b[0;34m.\u001b[0m\u001b[0mappend\u001b[0m\u001b[0;34m(\u001b[0m\u001b[0mtype\u001b[0m\u001b[0;34m(\u001b[0m\u001b[0mx\u001b[0m\u001b[0;34m)\u001b[0m\u001b[0;34m)\u001b[0m\u001b[0;34m\u001b[0m\u001b[0;34m\u001b[0m\u001b[0m\n\u001b[0;32m--> 281\u001b[0;31m         \u001b[0mtypes\u001b[0m \u001b[0;34m=\u001b[0m \u001b[0mL\u001b[0m\u001b[0;34m(\u001b[0m\u001b[0mt\u001b[0m \u001b[0;32mif\u001b[0m \u001b[0mis_listy\u001b[0m\u001b[0;34m(\u001b[0m\u001b[0mt\u001b[0m\u001b[0;34m)\u001b[0m \u001b[0;32melse\u001b[0m \u001b[0;34m[\u001b[0m\u001b[0mt\u001b[0m\u001b[0;34m]\u001b[0m \u001b[0;32mfor\u001b[0m \u001b[0mt\u001b[0m \u001b[0;32min\u001b[0m \u001b[0mself\u001b[0m\u001b[0;34m.\u001b[0m\u001b[0mtypes\u001b[0m\u001b[0;34m)\u001b[0m\u001b[0;34m.\u001b[0m\u001b[0mconcat\u001b[0m\u001b[0;34m(\u001b[0m\u001b[0;34m)\u001b[0m\u001b[0;34m.\u001b[0m\u001b[0munique\u001b[0m\u001b[0;34m(\u001b[0m\u001b[0;34m)\u001b[0m\u001b[0;34m\u001b[0m\u001b[0;34m\u001b[0m\u001b[0m\n\u001b[0m\u001b[1;32m    282\u001b[0m         \u001b[0mself\u001b[0m\u001b[0;34m.\u001b[0m\u001b[0mpretty_types\u001b[0m \u001b[0;34m=\u001b[0m \u001b[0;34m'\\n'\u001b[0m\u001b[0;34m.\u001b[0m\u001b[0mjoin\u001b[0m\u001b[0;34m(\u001b[0m\u001b[0;34m[\u001b[0m\u001b[0;34mf'  - {t}'\u001b[0m \u001b[0;32mfor\u001b[0m \u001b[0mt\u001b[0m \u001b[0;32min\u001b[0m \u001b[0mtypes\u001b[0m\u001b[0;34m]\u001b[0m\u001b[0;34m)\u001b[0m\u001b[0;34m\u001b[0m\u001b[0;34m\u001b[0m\u001b[0m\n\u001b[1;32m    283\u001b[0m \u001b[0;34m\u001b[0m\u001b[0m\n",
            "\u001b[0;31mTypeError\u001b[0m: 'NoneType' object is not iterable"
          ]
        }
      ]
    }
  ]
}